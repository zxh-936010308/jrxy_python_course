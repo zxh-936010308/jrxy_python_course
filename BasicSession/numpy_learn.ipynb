{
 "cells": [
  {
   "cell_type": "markdown",
   "metadata": {},
   "source": [
    "#### Numpy\n",
    "\n",
    "NumPy（Numerical Python）是Python的一种开源的数值计算扩展。这种工具可用来存储和处理大型矩阵，比Python自身的嵌套列表（nested list structure)结构要高效的多（该结构也可以用来表示矩阵**matrix**），支持大量的维度数组与矩阵运算，此外也针对数组运算提供大量的数学函数库. \n",
    "\n",
    "NumPy（Numeric Python）提供了许多高级的数值编程工具，如：**矩阵数据类型**、**矢量处理**，以及精密的运算库。专为进行严格的数字处理而产生。多为很多**大型金融公司**使用，以及核心的科学计算组织如：Lawrence Livermore，NASA用其处理一些本来使用C++，Fortran或Matlab等所做的任务。\n",
    "\n",
    "NumPy 的前身为 Numeric，最早由 Jim Hugunin 与其它协作者共同开发，2005 年，Travis Oliphant 在 Numeric 中结合了另一个同性质的程序库 Numarray 的特色，并加入了其它扩展而开发了 NumPy。NumPy 为开放源代码并且由许多协作者共同维护开发。\n",
    "\n",
    "#### Numpy 教程\n",
    "\n",
    "- 官方教程 （英文） https://numpy.org/doc/stable/user/quickstart.html\n",
    "- Numpy中文网  https://www.numpy.org.cn/\n",
    "- Numpy 菜鸟教程 https://www.runoob.com/numpy/numpy-tutorial.html\n",
    "\n"
   ]
  },
  {
   "cell_type": "code",
   "execution_count": 1,
   "metadata": {},
   "outputs": [
    {
     "data": {
      "text/plain": [
       "'1.15.1'"
      ]
     },
     "execution_count": 1,
     "metadata": {},
     "output_type": "execute_result"
    }
   ],
   "source": [
    "import numpy as np   # 导入numpy模块\n",
    "np.__version__"
   ]
  },
  {
   "cell_type": "markdown",
   "metadata": {},
   "source": [
    "#### Numpy的数据结构\n",
    "\n",
    "NumPy 数组的维数称为秩（rank），秩就是轴的数量，即数组的维度，一维数组的秩为 1，二维数组的秩为 2，以此类推。\n",
    "\n",
    "在 NumPy中，每一个线性的数组称为是一个轴（axis），也就是维度（dimensions）。比如说，二维数组相当于是两个一维数组，其中第一个一维数组中每个元素又是一个一维数组。所以一维数组就是 NumPy 中的轴（axis），第一个轴相当于是底层数组，第二个轴是底层数组里的数组。而轴的数量 — 秩，就是数组的维数。\n",
    "\n",
    "很多时候可以声明 axis。axis=0，表示沿着第 0 轴进行操作，即对每一列进行操作；axis=1，表示沿着第1轴进行操作，即对每一行进行操作。\n",
    "\n",
    "NumPy 的数组中比较重要 ndarray 对象属性有：\n",
    "\n",
    "- ndarray.ndim \t  秩，即轴的数量或维度的数量\n",
    "- ndarray.shape   数组的维度，对于矩阵，n 行 m 列\n",
    "- ndarray.size \t  数组元素的总个数，相当于 .shape 中 n*m 的值\n",
    "- ndarray.dtype   ndarray 对象的元素类型"
   ]
  },
  {
   "cell_type": "code",
   "execution_count": 4,
   "metadata": {},
   "outputs": [
    {
     "name": "stdout",
     "output_type": "stream",
     "text": [
      "[0.670179   0.01558587 0.76925815 0.41288833 0.46755007 0.7730396\n",
      " 0.40907208 0.93755116 0.72811272 0.87713592 0.12706448 0.53243385\n",
      " 0.12595512 0.15074644 0.04504122 0.26816718 0.35056703 0.66422577\n",
      " 0.27406233 0.04317643 0.35197045 0.98096302 0.37737195 0.22014084\n",
      " 0.09694736 0.70621076 0.20983127 0.59831918 0.66527984 0.20190498\n",
      " 0.78135227 0.46580078 0.01353575 0.53982813 0.91035045 0.88181963\n",
      " 0.89748292 0.03031022 0.43217521 0.26498159 0.43760022 0.51684301\n",
      " 0.69111688 0.54743702 0.38321238 0.70243744 0.45348686 0.69001785\n",
      " 0.65417513 0.57680811 0.43297173 0.74678949 0.01318268 0.89023376\n",
      " 0.63226199 0.08190115 0.55859686 0.52447715 0.34039952 0.71584334\n",
      " 0.04673493 0.21602331 0.11898056 0.92025155 0.5523317  0.44266043\n",
      " 0.81439085 0.67733032 0.95382362 0.2118727  0.54919563 0.07745396\n",
      " 0.56573605 0.84171697 0.81205587 0.41727507 0.10721643 0.3074436\n",
      " 0.58041389 0.68552626 0.13895267 0.58237642 0.66640823 0.83439432\n",
      " 0.32160994 0.65222218 0.389821   0.8446255  0.94711911 0.05170082\n",
      " 0.1169109  0.42047387 0.74789721 0.99328119 0.16679563 0.51126481\n",
      " 0.79586444 0.87729    0.43290233 0.2666984 ]\n"
     ]
    }
   ],
   "source": [
    "stock_return = np.random.random(100)  # 假设有5个股票，各4天的收益率是20个随机数  np.random.random 用以产生随机数\n",
    "print(stock_return)\n",
    "#type(stock_return)"
   ]
  },
  {
   "cell_type": "code",
   "execution_count": 5,
   "metadata": {},
   "outputs": [
    {
     "name": "stdout",
     "output_type": "stream",
     "text": [
      "[[0.670179   0.01558587 0.76925815 0.41288833 0.46755007]\n",
      " [0.7730396  0.40907208 0.93755116 0.72811272 0.87713592]\n",
      " [0.12706448 0.53243385 0.12595512 0.15074644 0.04504122]\n",
      " [0.26816718 0.35056703 0.66422577 0.27406233 0.04317643]\n",
      " [0.35197045 0.98096302 0.37737195 0.22014084 0.09694736]\n",
      " [0.70621076 0.20983127 0.59831918 0.66527984 0.20190498]\n",
      " [0.78135227 0.46580078 0.01353575 0.53982813 0.91035045]\n",
      " [0.88181963 0.89748292 0.03031022 0.43217521 0.26498159]\n",
      " [0.43760022 0.51684301 0.69111688 0.54743702 0.38321238]\n",
      " [0.70243744 0.45348686 0.69001785 0.65417513 0.57680811]\n",
      " [0.43297173 0.74678949 0.01318268 0.89023376 0.63226199]\n",
      " [0.08190115 0.55859686 0.52447715 0.34039952 0.71584334]\n",
      " [0.04673493 0.21602331 0.11898056 0.92025155 0.5523317 ]\n",
      " [0.44266043 0.81439085 0.67733032 0.95382362 0.2118727 ]\n",
      " [0.54919563 0.07745396 0.56573605 0.84171697 0.81205587]\n",
      " [0.41727507 0.10721643 0.3074436  0.58041389 0.68552626]\n",
      " [0.13895267 0.58237642 0.66640823 0.83439432 0.32160994]\n",
      " [0.65222218 0.389821   0.8446255  0.94711911 0.05170082]\n",
      " [0.1169109  0.42047387 0.74789721 0.99328119 0.16679563]\n",
      " [0.51126481 0.79586444 0.87729    0.43290233 0.2666984 ]]\n",
      "stock_return的维度是：\n",
      "2\n"
     ]
    }
   ],
   "source": [
    "# 将数据调整成 4 * 5 的维度\n",
    "stock_return = stock_return.reshape(20,5)\n",
    "print(stock_return)\n",
    "print('stock_return的维度是：')\n",
    "print(stock_return.ndim)"
   ]
  },
  {
   "cell_type": "code",
   "execution_count": 5,
   "metadata": {},
   "outputs": [
    {
     "data": {
      "text/plain": [
       "(4, 5)"
      ]
     },
     "execution_count": 5,
     "metadata": {},
     "output_type": "execute_result"
    }
   ],
   "source": [
    "stock_return.shape  # 查看其维度"
   ]
  },
  {
   "cell_type": "code",
   "execution_count": 6,
   "metadata": {},
   "outputs": [
    {
     "data": {
      "text/plain": [
       "20"
      ]
     },
     "execution_count": 6,
     "metadata": {},
     "output_type": "execute_result"
    }
   ],
   "source": [
    "stock_return.size # 查看其大小"
   ]
  },
  {
   "cell_type": "markdown",
   "metadata": {},
   "source": [
    "#### 创建数组\n",
    "\n",
    "- 创建全零或者全1的数组\n",
    "- 创建一个index序列，通常在循环中需要使用\n",
    "- 创建等差数列、等比数列"
   ]
  },
  {
   "cell_type": "code",
   "execution_count": 11,
   "metadata": {},
   "outputs": [
    {
     "name": "stdout",
     "output_type": "stream",
     "text": [
      "[[1 1]\n",
      " [1 1]\n",
      " [1 1]]\n"
     ]
    }
   ],
   "source": [
    "# 生成全零或者全一矩阵\n",
    "zeros = np.zeros((5,))\n",
    "ones = np.ones([3,2], dtype = int)\n",
    "print(ones)"
   ]
  },
  {
   "cell_type": "code",
   "execution_count": 19,
   "metadata": {},
   "outputs": [
    {
     "data": {
      "text/plain": [
       "dtype('int32')"
      ]
     },
     "execution_count": 19,
     "metadata": {},
     "output_type": "execute_result"
    }
   ],
   "source": [
    "# 将列表转成 array\n",
    "ones = [1,2,3,4,5]\n",
    "ones = np.asarray(ones)\n",
    "ones.dtype"
   ]
  },
  {
   "cell_type": "code",
   "execution_count": 13,
   "metadata": {},
   "outputs": [
    {
     "name": "stdout",
     "output_type": "stream",
     "text": [
      "[10 12 14 16 18]\n"
     ]
    },
    {
     "data": {
      "text/plain": [
       "[0, 1, 2, 3, 4]"
      ]
     },
     "execution_count": 13,
     "metadata": {},
     "output_type": "execute_result"
    }
   ],
   "source": [
    "x = np.arange(10,20,2)  \n",
    "print (x)\n",
    "\n",
    "x1 = [y for y in range(5)]\n",
    "x1"
   ]
  },
  {
   "cell_type": "code",
   "execution_count": 14,
   "metadata": {},
   "outputs": [
    {
     "name": "stdout",
     "output_type": "stream",
     "text": [
      "[ 5  6  8 10 11 13 15 16 18 20]\n"
     ]
    }
   ],
   "source": [
    "# np.linspace(start, stop, num=50, dtype)\n",
    "x = np.linspace(5, 20, num = 10, dtype = int)  \n",
    "print (x)"
   ]
  },
  {
   "cell_type": "code",
   "execution_count": 19,
   "metadata": {},
   "outputs": [
    {
     "name": "stdout",
     "output_type": "stream",
     "text": [
      "[  8  16  32  64 128 256 512]\n"
     ]
    }
   ],
   "source": [
    "# np.logspace 函数用于创建一个于等比数列, base 参数意思是取对数的时候 log 的下标\n",
    "# np.logspace(start, stop, num=50, base=10.0, dtype=None)\n",
    "x = np.logspace(0,9,10,base=2, dtype = int)\n",
    "n =5\n",
    "print (x[x>5])"
   ]
  },
  {
   "cell_type": "markdown",
   "metadata": {},
   "source": [
    "#### 数组的索引、切片和排序\n",
    "\n",
    "- **索引和切片**\n",
    "ndarray 数组可以基于 0 - n 的下标进行索引， 通常可以通过冒号分隔切片参数 start:stop:step 来进行切片操作\n",
    "\n",
    ">冒号的解释：如果只放置一个参数，如 [2]，将返回与该索引相对应的单个元素。如果为 [2:]，表示从该索引开始以后的所有项都将被提取。如果使用了两个参数，如 [2:7]，那么则提取两个索引(不包括停止索引)之间的项。\n",
    "\n",
    ">布尔索引：布尔索引通过布尔运算（如：比较运算符）来获取符合指定条件的元素的数组\n",
    "\n",
    "- **排序**\n",
    "NumPy 提供了多种排序的方法。 这些排序函数实现不同的排序算法\n",
    "\n",
    ">numpy.sort() 函数返回输入数组的排序副本\n",
    "\n",
    ">numpy.argsort() 函数返回的是数组值从小到大的索引值\n",
    "\n",
    ">numpy.argmax() 和 numpy.argmin()函数分别沿给定轴返回最大和最小元素的索引\n",
    "\n",
    ">numpy.where() 函数返回输入数组中满足给定条件的元素的索引\n",
    "\n",
    ">numpy.extract() 函数根据某个条件从数组中抽取元素，返回满条件的元素。"
   ]
  },
  {
   "cell_type": "code",
   "execution_count": 21,
   "metadata": {},
   "outputs": [
    {
     "name": "stdout",
     "output_type": "stream",
     "text": [
      "[0 1 2 3 4 5 6 7]\n"
     ]
    }
   ],
   "source": [
    "# 索引和切片\n",
    "a = np.arange(10)  \n",
    "b = a[2:7:2]   # 从索引 2 开始到索引 7 停止，间隔为 2\n",
    "c = a[3:] # 从索引 3 开始到结束\n",
    "d = a[:-2]  # 从索引 0 开始到倒数第 2\n",
    "print(d)"
   ]
  },
  {
   "cell_type": "code",
   "execution_count": 26,
   "metadata": {},
   "outputs": [
    {
     "name": "stdout",
     "output_type": "stream",
     "text": [
      "大于 5 的元素是：\n",
      "[ 6  7  8  9 10 11]\n"
     ]
    }
   ],
   "source": [
    "# 索引和切片\n",
    "x = np.array([[  0,  1,  2],[  3,  4,  5],[  6,  7,  8],[  9,  10,  11]])  \n",
    "# 现在我们会打印出大于 5 的元素  \n",
    "print  ('大于 5 的元素是：')\n",
    "print (x[x >  5])  # 布尔索引"
   ]
  },
  {
   "cell_type": "code",
   "execution_count": 22,
   "metadata": {},
   "outputs": [
    {
     "name": "stdout",
     "output_type": "stream",
     "text": [
      "原始数组是：\n",
      "[[3 7]\n",
      " [9 1]]\n",
      "\n",
      "\n",
      "按行排序：\n",
      "[[3 7]\n",
      " [1 9]]\n",
      "\n",
      "\n",
      "按列排序：\n",
      "[[3 7]\n",
      " [1 9]]\n"
     ]
    }
   ],
   "source": [
    "# 排序 np.sort\n",
    "x = np.array([[3,7],[9,1]])  \n",
    "print ('原始数组是：')\n",
    "print (x)\n",
    "print ('\\n')\n",
    "print ('按行排序：')\n",
    "print (np.sort(x, axis = 1))\n",
    "print ('\\n')\n",
    "print ('按列排序：')\n",
    "print (np.sort(x))"
   ]
  },
  {
   "cell_type": "code",
   "execution_count": 39,
   "metadata": {},
   "outputs": [
    {
     "name": "stdout",
     "output_type": "stream",
     "text": [
      "原始数组是：\n",
      "[3 1 2]\n",
      "\n",
      "\n",
      "对 x 调用 argsort() 函数：\n",
      "[1 2 0]\n",
      "\n",
      "\n",
      "以排序后的顺序重构原数组：\n",
      "[1 2 3]\n"
     ]
    }
   ],
   "source": [
    "# 排序 np.argsort\n",
    "\n",
    "x = np.array([3,  1,  2])  \n",
    "print ('原始数组是：')\n",
    "print (x)\n",
    "print ('\\n')\n",
    "print ('对 x 调用 argsort() 函数：')\n",
    "y = np.argsort(x)  \n",
    "print (y)\n",
    "print ('\\n')\n",
    "print ('以排序后的顺序重构原数组：')\n",
    "print (x[y])"
   ]
  },
  {
   "cell_type": "code",
   "execution_count": 23,
   "metadata": {},
   "outputs": [
    {
     "name": "stdout",
     "output_type": "stream",
     "text": [
      "原始数组是：\n",
      "[[30 40 70]\n",
      " [80 20 10]\n",
      " [50 90 60]]\n",
      "\n",
      "\n",
      "调用 argmax() 函数：\n",
      "7\n",
      "\n",
      "\n",
      "展开数组：\n",
      "[30 40 70 80 20 10 50 90 60]\n",
      "\n",
      "\n",
      "沿轴 0 的最大值索引：\n",
      "[1 2 0]\n",
      "\n",
      "\n",
      "沿轴 1 的最大值索引：\n",
      "[2 0 1]\n",
      "\n",
      "\n",
      "调用 argmin() 函数：\n",
      "5\n",
      "\n",
      "\n",
      "展开数组中的最小值：\n",
      "10\n",
      "\n",
      "\n",
      "沿轴 0 的最小值索引：\n",
      "[0 1 1]\n",
      "\n",
      "\n",
      "沿轴 1 的最小值索引：\n",
      "[0 2 0]\n"
     ]
    }
   ],
   "source": [
    "#  numpy.argmax() 和 numpy.argmin()\n",
    "x = np.array([[30,40,70],[80,20,10],[50,90,60]])  \n",
    "print  ('原始数组是：') \n",
    "print (x) \n",
    "print ('\\n') \n",
    "print ('调用 argmax() 函数：') \n",
    "print (np.argmax(x)) \n",
    "print ('\\n') \n",
    "print ('展开数组：') \n",
    "print (x.flatten()) \n",
    "print ('\\n') \n",
    "print ('沿轴 0 的最大值索引：') \n",
    "maxindex = np.argmax(x, axis =  0)  \n",
    "print (maxindex) \n",
    "print ('\\n') \n",
    "print ('沿轴 1 的最大值索引：') \n",
    "maxindex = np.argmax(x, axis =  1)  \n",
    "print (maxindex) \n",
    "print ('\\n') \n",
    "print ('调用 argmin() 函数：') \n",
    "minindex = np.argmin(x)  \n",
    "print (minindex) \n",
    "print ('\\n') \n",
    "print ('展开数组中的最小值：') \n",
    "print (x.flatten()[minindex]) \n",
    "print ('\\n') \n",
    "print ('沿轴 0 的最小值索引：') \n",
    "minindex = np.argmin(x, axis =  0)  \n",
    "print (minindex) \n",
    "print ('\\n') \n",
    "print ('沿轴 1 的最小值索引：') \n",
    "minindex = np.argmin(x, axis =  1)  \n",
    "print (minindex)"
   ]
  },
  {
   "cell_type": "code",
   "execution_count": 45,
   "metadata": {},
   "outputs": [
    {
     "name": "stdout",
     "output_type": "stream",
     "text": [
      "原始数组是：\n",
      "[[0 1 2]\n",
      " [3 4 5]\n",
      " [6 7 8]]\n",
      "大于 3 的元素的索引：\n",
      "(array([1, 1, 2, 2, 2], dtype=int64), array([1, 2, 0, 1, 2], dtype=int64))\n",
      "使用这些索引来获取满足条件的元素：\n",
      "[4 5 6 7 8]\n",
      "如果数字大于3输出该数字，如果小于3则输出3\n",
      "[[3 3 3]\n",
      " [3 4 5]\n",
      " [6 7 8]]\n"
     ]
    }
   ],
   "source": [
    "# numpy.where() 函数返回输入数组中满足给定条件的元素的索引\n",
    "\n",
    "x = np.arange(9).reshape(3,  3)  \n",
    "print ('原始数组是：')\n",
    "print (x)\n",
    "print ( '大于 3 的元素的索引：')\n",
    "y = np.where(x >  3)  \n",
    "print (y)\n",
    "print ('使用这些索引来获取满足条件的元素：')\n",
    "print (x[y])\n",
    "\n",
    "# np.where(x) 输出的是5个判断为真的数的坐标，第一个array是横坐标，第二个array是纵坐标\n",
    "\n",
    "y = np.where(x>3, x, 3)\n",
    "print('如果数字大于3输出该数字，如果小于3则输出3')\n",
    "print(y)"
   ]
  },
  {
   "cell_type": "code",
   "execution_count": 46,
   "metadata": {},
   "outputs": [
    {
     "name": "stdout",
     "output_type": "stream",
     "text": [
      "原始数组是：\n",
      "[[0. 1. 2.]\n",
      " [3. 4. 5.]\n",
      " [6. 7. 8.]]\n",
      "按元素的条件值：\n",
      "[[ True False  True]\n",
      " [False  True False]\n",
      " [ True False  True]]\n",
      "使用条件提取元素：\n",
      "[0. 2. 4. 6. 8.]\n"
     ]
    }
   ],
   "source": [
    "# numpy.extract() 函数根据某个条件从数组中抽取元素，返回满条件的元素。\n",
    "\n",
    "x = np.arange(9.).reshape(3,  3)  \n",
    "print ('原始数组是：')\n",
    "print (x)\n",
    "# 定义条件, 选择偶数元素\n",
    "condition = np.mod(x,2)  ==  0  \n",
    "print ('按元素的条件值：')\n",
    "print (condition)\n",
    "print ('使用条件提取元素：')\n",
    "print (np.extract(condition, x))"
   ]
  },
  {
   "cell_type": "markdown",
   "metadata": {},
   "source": [
    "#### 数组运算\n",
    "\n",
    "- 求和运算\n",
    "- 求极值运算\n",
    "- 求均值\n",
    "- 求方差和标准差"
   ]
  },
  {
   "cell_type": "code",
   "execution_count": 24,
   "metadata": {},
   "outputs": [
    {
     "data": {
      "text/plain": [
       "array([1.29975947, 3.06553619, 1.74494803, 2.4940407 , 1.33341627])"
      ]
     },
     "execution_count": 24,
     "metadata": {},
     "output_type": "execute_result"
    }
   ],
   "source": [
    "# 求5个股票收益率在4天中的和\n",
    "stock_return.sum(axis = 0)"
   ]
  },
  {
   "cell_type": "code",
   "execution_count": 23,
   "metadata": {},
   "outputs": [
    {
     "data": {
      "text/plain": [
       "array([0.00469868, 0.00288312, 0.00475812, 0.00083104])"
      ]
     },
     "execution_count": 23,
     "metadata": {},
     "output_type": "execute_result"
    }
   ],
   "source": [
    "# 求5个股票收益率在4天中的乘积\n",
    "stock_return.prod(axis = 1)"
   ]
  },
  {
   "cell_type": "code",
   "execution_count": 26,
   "metadata": {},
   "outputs": [
    {
     "data": {
      "text/plain": [
       "array([0.91042832, 0.92663641, 0.93182748, 0.88348436, 0.92554657])"
      ]
     },
     "execution_count": 26,
     "metadata": {},
     "output_type": "execute_result"
    }
   ],
   "source": [
    "# 求5个股票收益率在4天中的最大收益\n",
    "stock_return.max(axis = 0)"
   ]
  },
  {
   "cell_type": "code",
   "execution_count": 27,
   "metadata": {},
   "outputs": [
    {
     "data": {
      "text/plain": [
       "array([0.88348436, 0.91042832, 0.93182748, 0.92663641])"
      ]
     },
     "execution_count": 27,
     "metadata": {},
     "output_type": "execute_result"
    }
   ],
   "source": [
    "# 求4天中每天最大收益股票的收益值\n",
    "stock_return.max(axis = 1)"
   ]
  },
  {
   "cell_type": "code",
   "execution_count": 51,
   "metadata": {},
   "outputs": [
    {
     "data": {
      "text/plain": [
       "array([0.38713256, 0.57827617, 0.7828697 , 0.59774358, 0.87364308])"
      ]
     },
     "execution_count": 51,
     "metadata": {},
     "output_type": "execute_result"
    }
   ],
   "source": [
    "# 求5个股票收益率在4天中的平均收益\n",
    "stock_return.mean(axis = 0)"
   ]
  },
  {
   "cell_type": "code",
   "execution_count": 28,
   "metadata": {},
   "outputs": [
    {
     "name": "stdout",
     "output_type": "stream",
     "text": [
      "方差\n"
     ]
    },
    {
     "data": {
      "text/plain": [
       "array([0.125116  , 0.02691626, 0.14944165, 0.10452495, 0.12210275])"
      ]
     },
     "execution_count": 28,
     "metadata": {},
     "output_type": "execute_result"
    }
   ],
   "source": [
    "# 求5个股票收益率在4天中的方差和标准差\n",
    "print('方差')\n",
    "stock_return.var(axis = 0)"
   ]
  },
  {
   "cell_type": "code",
   "execution_count": 29,
   "metadata": {},
   "outputs": [
    {
     "name": "stdout",
     "output_type": "stream",
     "text": [
      "标准差\n"
     ]
    },
    {
     "data": {
      "text/plain": [
       "array([0.35371741, 0.16406175, 0.38657683, 0.32330319, 0.34943204])"
      ]
     },
     "execution_count": 29,
     "metadata": {},
     "output_type": "execute_result"
    }
   ],
   "source": [
    "# 求5个股票收益率在4天中的方差和标准差\n",
    "print('标准差')\n",
    "stock_return.std(axis = 0)"
   ]
  },
  {
   "cell_type": "markdown",
   "metadata": {},
   "source": [
    "#### 矩阵操作\n",
    "\n",
    "- 矩阵的对角线，行列式\n",
    "- 矩阵相乘，矩阵的逆和特征值分解"
   ]
  },
  {
   "cell_type": "code",
   "execution_count": 60,
   "metadata": {},
   "outputs": [
    {
     "name": "stdout",
     "output_type": "stream",
     "text": [
      "协方差矩阵\n"
     ]
    },
    {
     "data": {
      "text/plain": [
       "array([[ 1.        ,  0.76758686, -0.27168391,  0.45940316],\n",
       "       [ 0.76758686,  1.        , -0.65352666,  0.56908901],\n",
       "       [-0.27168391, -0.65352666,  1.        ,  0.15647292],\n",
       "       [ 0.45940316,  0.56908901,  0.15647292,  1.        ]])"
      ]
     },
     "execution_count": 60,
     "metadata": {},
     "output_type": "execute_result"
    }
   ],
   "source": [
    "# 求5个股票收益率在4天中的协方差矩阵\n",
    "print('协方差矩阵')\n",
    "np.corrcoef(stock_return)"
   ]
  },
  {
   "cell_type": "code",
   "execution_count": 61,
   "metadata": {},
   "outputs": [
    {
     "data": {
      "text/plain": [
       "array([1., 1., 1., 1.])"
      ]
     },
     "execution_count": 61,
     "metadata": {},
     "output_type": "execute_result"
    }
   ],
   "source": [
    "# 对角线元素\n",
    "stock_corr = np.corrcoef(stock_return)\n",
    "np.diag(stock_corr)"
   ]
  },
  {
   "cell_type": "code",
   "execution_count": 63,
   "metadata": {},
   "outputs": [
    {
     "data": {
      "text/plain": [
       "0.013877455031174784"
      ]
     },
     "execution_count": 63,
     "metadata": {},
     "output_type": "execute_result"
    }
   ],
   "source": [
    "# 计算行列式\n",
    "import numpy.linalg as la\n",
    "stock_corr = np.corrcoef(stock_return)\n",
    "la.det(stock_corr)"
   ]
  },
  {
   "cell_type": "code",
   "execution_count": 65,
   "metadata": {},
   "outputs": [
    {
     "data": {
      "text/plain": [
       "(array([2.39523365, 0.01187751, 0.4136523 , 1.17923654]),\n",
       " array([[-0.55210105, -0.27111941, -0.77857726,  0.12448349],\n",
       "        [-0.63607195,  0.74477934,  0.17588627, -0.09889506],\n",
       "        [ 0.36049334,  0.47798948, -0.3035671 ,  0.74122711],\n",
       "        [-0.40080102, -0.37858164,  0.52031575,  0.65215489]]))"
      ]
     },
     "execution_count": 65,
     "metadata": {},
     "output_type": "execute_result"
    }
   ],
   "source": [
    "# 特征值分解 singular value decomposition\n",
    "import numpy.linalg as la\n",
    "stock_corr = np.corrcoef(stock_return)\n",
    "la.eig(stock_corr)"
   ]
  },
  {
   "cell_type": "code",
   "execution_count": null,
   "metadata": {
    "collapsed": true,
    "jupyter": {
     "outputs_hidden": true
    }
   },
   "outputs": [],
   "source": []
  }
 ],
 "metadata": {
  "kernelspec": {
   "display_name": "Python 3",
   "language": "python",
   "name": "python3"
  },
  "language_info": {
   "codemirror_mode": {
    "name": "ipython",
    "version": 3
   },
   "file_extension": ".py",
   "mimetype": "text/x-python",
   "name": "python",
   "nbconvert_exporter": "python",
   "pygments_lexer": "ipython3",
   "version": "3.6.5"
  }
 },
 "nbformat": 4,
 "nbformat_minor": 4
}
